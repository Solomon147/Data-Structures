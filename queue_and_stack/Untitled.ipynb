{
 "cells": [
  {
   "cell_type": "code",
   "execution_count": 1,
   "metadata": {},
   "outputs": [],
   "source": [
    "import sys\n",
    "sys.path.append('../doubly_linked_list')\n",
    "from doubly_linked_list import DoublyLinkedList\n",
    "\n",
    "\n",
    "class Queue:\n",
    "    def __init__(self):\n",
    "        self.size = 0\n",
    "        self.storage = DoublyLinkedList()\n",
    "        # Why is our DLL a good choice to store our elements?\n",
    "        # self.storage = ?\n",
    "\n",
    "    def enqueue(self, value):\n",
    "        self.storage.add_to_tail(value)\n",
    "        self.size += 1\n",
    "\n",
    "    def dequeue(self):\n",
    "        if self.size > 0:\n",
    "            self.size -= 1\n",
    "            return self.storage.remove_from_head()\n",
    "        \n",
    "\n",
    "    def len(self):\n",
    "        return self.size"
   ]
  },
  {
   "cell_type": "code",
   "execution_count": 2,
   "metadata": {},
   "outputs": [],
   "source": [
    "def test_dequeue_respects_order(self):\n",
    "        self.q.enqueue(100)\n",
    "        self.q.enqueue(101)\n",
    "        self.q.enqueue(105)\n",
    "        self.assertEqual(self.q.dequeue(), 100)\n",
    "        self.assertEqual(self.q.len(), 2)\n",
    "        self.assertEqual(self.q.dequeue(), 101)\n",
    "        self.assertEqual(self.q.len(), 1)\n",
    "        self.assertEqual(self.q.dequeue(), 105)\n",
    "        self.assertEqual(self.q.len(), 0)\n",
    "        self.assertIsNone(self.q.dequeue())\n",
    "        self.assertEqual(self.q.len(), 0)"
   ]
  },
  {
   "cell_type": "code",
   "execution_count": 4,
   "metadata": {},
   "outputs": [
    {
     "name": "stdout",
     "output_type": "stream",
     "text": [
      "None\n"
     ]
    }
   ],
   "source": [
    "q = Queue()\n",
    "q.enqueue(100)\n",
    "q.enqueue(101)\n",
    "q.enqueue(105)\n",
    "print(q.dequeue())"
   ]
  },
  {
   "cell_type": "code",
   "execution_count": 6,
   "metadata": {},
   "outputs": [
    {
     "data": {
      "text/plain": [
       "2"
      ]
     },
     "execution_count": 6,
     "metadata": {},
     "output_type": "execute_result"
    }
   ],
   "source": [
    "q.size"
   ]
  },
  {
   "cell_type": "code",
   "execution_count": null,
   "metadata": {},
   "outputs": [],
   "source": []
  }
 ],
 "metadata": {
  "kernelspec": {
   "display_name": "Python 3",
   "language": "python",
   "name": "python3"
  },
  "language_info": {
   "codemirror_mode": {
    "name": "ipython",
    "version": 3
   },
   "file_extension": ".py",
   "mimetype": "text/x-python",
   "name": "python",
   "nbconvert_exporter": "python",
   "pygments_lexer": "ipython3",
   "version": "3.7.5"
  }
 },
 "nbformat": 4,
 "nbformat_minor": 4
}
